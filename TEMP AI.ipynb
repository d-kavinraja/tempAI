{
 "cells": [
  {
   "cell_type": "code",
   "execution_count": 1,
   "metadata": {},
   "outputs": [
    {
     "name": "stdout",
     "output_type": "stream",
     "text": [
      "Current temperature: 29.791459499845697\n",
      "Decreasing temperature...\n"
     ]
    }
   ],
   "source": [
    "import random\n",
    "\n",
    "class RoomAI:\n",
    "    def __init__(self):\n",
    "        self.current_temperature = 0\n",
    "\n",
    "    def get_current_temperature(self):\n",
    "        # Simulate fetching current temperature from sensors\n",
    "        self.current_temperature = random.uniform(18.0, 30.0)\n",
    "        return self.current_temperature\n",
    "\n",
    "    def adjust_temperature(self):\n",
    "        target_temperature = 22.0  # Desired target temperature\n",
    "\n",
    "        if self.current_temperature < target_temperature:\n",
    "            print(\"Increasing temperature...\")\n",
    "            # Code to control the heating mechanism of the room (e.g., turn on the heater)\n",
    "        elif self.current_temperature > target_temperature:\n",
    "            print(\"Decreasing temperature...\")\n",
    "            # Code to control the cooling mechanism of the room (e.g., turn on the air conditioner)\n",
    "        else:\n",
    "            print(\"Temperature is already optimal.\")\n",
    "\n",
    "# Create an instance of the AI controller\n",
    "room_ai = RoomAI()\n",
    "\n",
    "# Fetch the current temperature\n",
    "current_temp = room_ai.get_current_temperature()\n",
    "print(\"Current temperature:\", current_temp)\n",
    "\n",
    "# Adjust the temperature\n",
    "room_ai.adjust_temperature()\n"
   ]
  }
 ],
 "metadata": {
  "kernelspec": {
   "display_name": "Python 3",
   "language": "python",
   "name": "python3"
  },
  "language_info": {
   "codemirror_mode": {
    "name": "ipython",
    "version": 3
   },
   "file_extension": ".py",
   "mimetype": "text/x-python",
   "name": "python",
   "nbconvert_exporter": "python",
   "pygments_lexer": "ipython3",
   "version": "3.11.0"
  },
  "orig_nbformat": 4
 },
 "nbformat": 4,
 "nbformat_minor": 2
}
